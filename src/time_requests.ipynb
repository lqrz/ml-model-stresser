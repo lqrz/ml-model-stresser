{
 "cells": [
  {
   "cell_type": "markdown",
   "id": "78cbb2e2-0054-4e7f-aab0-f6fa865837fb",
   "metadata": {},
   "source": [
    "# Imports"
   ]
  },
  {
   "cell_type": "code",
   "execution_count": null,
   "id": "ca7105c3-0a31-4b75-9454-c70e1b8ba1bd",
   "metadata": {
    "tags": []
   },
   "outputs": [],
   "source": [
    "import socket\n",
    "import threading\n",
    "from concurrent.futures import ThreadPoolExecutor\n",
    "import time\n",
    "import numpy as np\n",
    "import pandas as pd\n",
    "from typing import Callable\n",
    "from functools import partial\n",
    "import matplotlib.pyplot as plt\n",
    "import seaborn as sns\n",
    "\n",
    "_ = sns.set_style('whitegrid')"
   ]
  },
  {
   "cell_type": "markdown",
   "id": "8bb59a47-88c9-4179-a21d-e08bebe08681",
   "metadata": {},
   "source": [
    "# Send single request (no concurrency)"
   ]
  },
  {
   "cell_type": "code",
   "execution_count": null,
   "id": "6759dbd8-f540-40f9-85ec-ea7037958849",
   "metadata": {
    "tags": []
   },
   "outputs": [],
   "source": [
    "def send_request_with_socket(message: str, socket: socket.socket, host: str = 'localhost', port: int = 6160):\n",
    "    \"\"\"Send request with payload {message} through {socket} to server listening on {host}:{port}.\"\"\"\n",
    "    socket.sendto(f'{message}\\n'.encode(), (host, port))\n",
    "    response, _ = socket.recvfrom(1024)\n",
    "    # print(response)\n",
    "    return response"
   ]
  },
  {
   "cell_type": "code",
   "execution_count": null,
   "id": "fe1c8662-fcda-4458-a058-f52ba646dca4",
   "metadata": {
    "tags": []
   },
   "outputs": [],
   "source": [
    "# instantiate udp socket\n",
    "sock: socket.socket = socket.socket(family=socket.AF_INET, type=socket.SOCK_DGRAM)"
   ]
  },
  {
   "cell_type": "code",
   "execution_count": null,
   "id": "f7f3ba38-ed2e-44f5-8675-3fd677cbc64e",
   "metadata": {
    "tags": []
   },
   "outputs": [],
   "source": [
    "%%timeit\n",
    "send_request_with_socket(message='sent from the script', socket=socket.socket)"
   ]
  },
  {
   "cell_type": "markdown",
   "id": "06acdee1-c8fe-47e3-b10f-3641604bca97",
   "metadata": {},
   "source": [
    "# Send concurrent requests"
   ]
  },
  {
   "cell_type": "code",
   "execution_count": null,
   "id": "e9c81de9-d7ae-4426-8efc-559501e8c50b",
   "metadata": {
    "tags": []
   },
   "outputs": [],
   "source": [
    "def run_concurrent_requests(num_requests: int, f_send: Callable) -> float:\n",
    "    \"\"\"Run {num_requests} concurrent requests via {f_send}.\"\"\"\n",
    "    start = time.perf_counter()\n",
    "    with ThreadPoolExecutor() as executor:\n",
    "        results = list(executor.map(f_send, range(num_requests)))\n",
    "        end = time.perf_counter()\n",
    "        elapsed_ms = (end - start) * 1000\n",
    "        return elapsed_ms\n",
    "        \n",
    "\n",
    "n_loops = 10\n",
    "n_threads = 3\n",
    "num_requests = np.array([0] + [(x+1) * n_threads for x in range(15)]) + 1\n",
    "num_requests = range(1, 45+1)"
   ]
  },
  {
   "cell_type": "code",
   "execution_count": null,
   "id": "e771f70c-20ae-4813-8338-b9f8d9d9f3d3",
   "metadata": {
    "tags": []
   },
   "outputs": [],
   "source": [
    "n_jobs = 1\n",
    "sock: socket.socket = socket.socket(family=socket.AF_INET, type=socket.SOCK_DGRAM)\n",
    "f_send = partial(send_request_with_socket, socket=sock)\n",
    "elapsed_times_njobs_1 = [(n, n_jobs, run_concurrent_requests(num_requests=n, f_send=f_send)) for n in num_requests for _ in range(n_loops)]"
   ]
  },
  {
   "cell_type": "code",
   "execution_count": null,
   "id": "b2cf20e9-acdd-4fe5-9680-b97a12fd00bb",
   "metadata": {
    "tags": []
   },
   "outputs": [],
   "source": [
    "n_jobs = -1\n",
    "sock: socket.socket = socket.socket(family=socket.AF_INET, type=socket.SOCK_DGRAM)\n",
    "f_send = partial(send_request_with_socket, socket=sock)\n",
    "elapsed_times_njobs_all = [(n, n_jobs, run_concurrent_requests(num_requests=n, f_send=f_send)) for n in num_requests for _ in range(n_loops)]"
   ]
  },
  {
   "cell_type": "markdown",
   "id": "f5ae9abd-5502-4a88-b4f4-e33a2cf01647",
   "metadata": {},
   "source": [
    "# Plot elapsed times"
   ]
  },
  {
   "cell_type": "code",
   "execution_count": null,
   "id": "53eb10ee-11ba-409d-87df-e799e5da75e3",
   "metadata": {
    "tags": []
   },
   "outputs": [],
   "source": [
    "df_plot = pd.DataFrame(elapsed_times_njobs_1+elapsed_times_njobs_all, columns=['NUM_REQUESTS', 'N_JOBS', 'ELAPSED_TIME'])\n",
    "\n",
    "medians = []\n",
    "ds_medians = df_plot.groupby('NUM_REQUESTS')['ELAPSED_TIME'].median().sort_index().reset_index()\n",
    "for n_ in [1, -1]:\n",
    "    for min_, max_ in list(zip(\n",
    "        (np.array([0] + [(x+1) * n_threads for x in range(45//3)])+1),\n",
    "        (np.array([0] + [(x+1) * n_threads for x in range(45//3)])+1)[1:]\n",
    "    )):\n",
    "        medians.append(df_plot.query(f\"NUM_REQUESTS >= {min_} & N_JOBS == {n_} & NUM_REQUESTS < {max_}\")['ELAPSED_TIME'].median())\n",
    "\n",
    "custom_palette = {\n",
    "    1: '#0D8EFF',     # blue\n",
    "    -1: '#ff7f0e',    # orange\n",
    "}\n",
    "f, ax = plt.subplots(1, 1, figsize=(12, 8))\n",
    "_ = sns.boxplot(x='NUM_REQUESTS', y='ELAPSED_TIME', hue='N_JOBS', palette=custom_palette, showfliers=False, data=df_plot, ax=ax)\n",
    "_ = ax.set_yticks(medians, [f\"{m:.2f}\" for m in medians])\n",
    "_ = plt.legend(loc='upper left', bbox_to_anchor=(1.01, 1.01), title='N jobs')\n",
    "_ = plt.xticks(rotation=45, fontsize=9)\n",
    "_ = plt.yticks(fontsize=9)\n",
    "_ = plt.tight_layout()\n",
    "_ = plt.show()"
   ]
  },
  {
   "cell_type": "code",
   "execution_count": null,
   "id": "b29b5ac1-dd52-472a-abbd-332b907b520e",
   "metadata": {},
   "outputs": [],
   "source": []
  }
 ],
 "metadata": {
  "environment": {
   "kernel": "conda-base-itinerary_rating_310",
   "name": "workbench-notebooks.m125",
   "type": "gcloud",
   "uri": "us-docker.pkg.dev/deeplearning-platform-release/gcr.io/workbench-notebooks:m125"
  },
  "kernelspec": {
   "display_name": "itinerary_rating_310 (Local)",
   "language": "python",
   "name": "conda-base-itinerary_rating_310"
  },
  "language_info": {
   "codemirror_mode": {
    "name": "ipython",
    "version": 3
   },
   "file_extension": ".py",
   "mimetype": "text/x-python",
   "name": "python",
   "nbconvert_exporter": "python",
   "pygments_lexer": "ipython3",
   "version": "3.10.17"
  }
 },
 "nbformat": 4,
 "nbformat_minor": 5
}
